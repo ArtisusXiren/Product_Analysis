{
 "cells": [
  {
   "cell_type": "code",
   "execution_count": 5,
   "id": "c9e81ac0-6e26-4640-b893-48ab29bb2390",
   "metadata": {
    "tags": []
   },
   "outputs": [],
   "source": [
    "import sqlite3\n",
    "import pandas as pd\n",
    "import matplotlib.pyplot as plt\n",
    "def generate(Class,Gender,Values):\n",
    "    conn=sqlite3.connect(\"Database.db\")\n",
    "    cursor=conn.cursor()\n",
    "    table_command=\"\"\"\n",
    "    Create Table IF NOT EXISTS Section_2(Class INTEGER,\n",
    "    Gender varchar(5),\n",
    "    \"Values\" INTEGER);\n",
    "    \"\"\"\n",
    "    cursor.execute(table_command)\n",
    "    try: \n",
    "        insert_command= \"\"\"\n",
    "        Insert INTO Section_2(Class,Gender,\"Values\")\n",
    "        values(?,?,?)\n",
    "        \"\"\"\n",
    "        with conn:                        \n",
    "            cursor.execute( insert_command,(Class,Gender,Values))\n",
    "            conn.commit()      \n",
    "    except sqlite3.Error as e:\n",
    "        print(\"Error executing SQL:\", e)\n",
    "    finally:                                   \n",
    "        if cursor:                             \n",
    "            cursor.close()\n",
    "        if conn:\n",
    "            conn.close()\n"
   ]
  },
  {
   "cell_type": "code",
   "execution_count": 6,
   "id": "97902bb1-dd75-49c2-ad4d-3947b8b9dcdf",
   "metadata": {
    "tags": []
   },
   "outputs": [
    {
     "name": "stdout",
     "output_type": "stream",
     "text": [
      "Success\n"
     ]
    }
   ],
   "source": [
    "Entries = [\n",
    "    {\"Class\":4,\"Gender\":\"Female\",\"Values\":10},\n",
    "   {\"Class\":4,\"Gender\":\"Male\",\"Values\":3},\n",
    "    {\"Class\":5,\"Gender\":\"Male\",\"Values\":1},\n",
    "    {\"Class\":1,\"Gender\":\"Female\",\"Values\":5},\n",
    "    {\"Class\":1,\"Gender\":\"Male\",\"Values\":7},\n",
    "    {\"Class\":2,\"Gender\":\"Female\",\"Values\":2},\n",
    "    {\"Class\":5,\"Gender\":\"Female\",\"Values\":5},\n",
    "    {\"Class\":2,\"Gender\":\"Male\",\"Values\":10}\n",
    "    \n",
    "]\n",
    "def gen_product(): \n",
    "    for product in Entries:\n",
    "        yield product[\"Class\"],product[\"Gender\"],product[\"Values\"]\n",
    "    \n",
    "for Class, Gender, Values in gen_product():\n",
    "    generate(Class,Gender,Values)\n",
    "print(\"Success\")\n",
    "\n",
    "\n",
    "\n",
    "\n"
   ]
  },
  {
   "cell_type": "code",
   "execution_count": 7,
   "id": "338333b6-8855-4127-ad26-7acbfe95710c",
   "metadata": {
    "tags": []
   },
   "outputs": [
    {
     "name": "stdout",
     "output_type": "stream",
     "text": [
      "Saved\n"
     ]
    }
   ],
   "source": [
    "conn=sqlite3.connect(\"Database.db\")\n",
    "select_query=\"\"\"\n",
    "Select* from Section_2\n",
    "\"\"\"\n",
    "data=pd.read_sql_query(select_query,conn)\n",
    "conn.close()\n",
    "data.to_csv(\"table.csv\",index=False)\n",
    "print(\"Saved\")\n",
    "    "
   ]
  },
  {
   "cell_type": "code",
   "execution_count": 10,
   "id": "14efd393-1f96-409f-bd77-c2272f256f29",
   "metadata": {
    "tags": []
   },
   "outputs": [
    {
     "name": "stdout",
     "output_type": "stream",
     "text": [
      "   Class  Gender  Values\n",
      "3      1  Female       5\n",
      "4      1    Male       7\n",
      "5      2  Female       2\n",
      "7      2    Male      10\n",
      "0      4  Female      10\n",
      "1      4    Male       3\n",
      "2      5    Male       1\n",
      "6      5  Female       5\n"
     ]
    }
   ],
   "source": [
    "def ascending():\n",
    "    data=pd.read_csv(\"table.csv\")\n",
    "    Class_df=data.sort_values(by='Class')\n",
    "    #Class_df.columns=['Class','Gender','Values']\n",
    "    print(Class_df)\n",
    "ascending()"
   ]
  },
  {
   "cell_type": "code",
   "execution_count": 11,
   "id": "c799697f-68e0-47d8-b588-b36f8d5eecbf",
   "metadata": {
    "tags": []
   },
   "outputs": [
    {
     "data": {
      "image/png": "[encoded data removed]",
      "text/plain": [
       "<Figure size 1000x600 with 1 Axes>"
      ]
     },
     "metadata": {},
     "output_type": "display_data"
    }
   ],
   "source": [
    "def plot():\n",
    "    data=pd.read_csv(\"table.csv\")\n",
    "    plt.figure(figsize=(10,6))\n",
    "    for gender in data['Gender'].unique():\n",
    "        subset=data[data['Gender']==gender]\n",
    "        plt.scatter(subset['Class'],subset['Values'],label=gender)\n",
    "    plt.xlabel('Class')\n",
    "    plt.ylabel('Values')\n",
    "    plt.legend(title='Gender')\n",
    "    plt.show()\n",
    "plot()"
   ]
  },
  {
   "cell_type": "code",
   "execution_count": 12,
   "id": "838ec467-b1de-4424-ad45-7fd6ce8a0cfc",
   "metadata": {
    "tags": []
   },
   "outputs": [
    {
     "name": "stdout",
     "output_type": "stream",
     "text": [
      "Class  Gender\n",
      "1      Female     [5]\n",
      "       Male       [7]\n",
      "2      Female     [2]\n",
      "       Male      [10]\n",
      "4      Female    [10]\n",
      "       Male       [3]\n",
      "5      Female     [5]\n",
      "       Male       [1]\n",
      "Name: Values, dtype: object\n"
     ]
    }
   ],
   "source": [
    "def uni():\n",
    "    data=pd.read_csv(\"table.csv\")\n",
    "    data_df=data.groupby(['Class','Gender'])['Values'].unique()\n",
    "    print(data_df)\n",
    "uni()"
   ]
  },
  {
   "cell_type": "code",
   "execution_count": 13,
   "id": "c600a8e8-b17e-4553-bef8-b2735abbf4ee",
   "metadata": {},
   "outputs": [
    {
     "name": "stdout",
     "output_type": "stream",
     "text": [
      "   Class  Male  Female\n",
      "0      1     7       5\n",
      "1      2    10       2\n",
      "2      4     3      10\n",
      "3      5     1       5\n"
     ]
    }
   ],
   "source": [
    "def reshape():\n",
    "    data=pd.read_csv(\"table.csv\")\n",
    "    reshape=data.pivot(index='Class',columns='Gender', values='Values')\n",
    "    reshape.reset_index(inplace=True)\n",
    "    reshape.columns.name=None\n",
    "    reshape =reshape[['Class','Male','Female']]\n",
    "    print(reshape)\n",
    "reshape()"
   ]
  },
  {
   "cell_type": "code",
   "execution_count": null,
   "id": "fc063707-b80b-4486-b456-7f2f6e2ae64d",
   "metadata": {},
   "outputs": [],
   "source": []
  }
 ],
 "metadata": {
  "kernelspec": {
   "display_name": "Python 3 (ipykernel)",
   "language": "python",
   "name": "python3"
  },
  "language_info": {
   "codemirror_mode": {
    "name": "ipython",
    "version": 3
   },
   "file_extension": ".py",
   "mimetype": "text/x-python",
   "name": "python",
   "nbconvert_exporter": "python",
   "pygments_lexer": "ipython3",
   "version": "3.11.5"
  }
 },
 "nbformat": 4,
 "nbformat_minor": 5
}
