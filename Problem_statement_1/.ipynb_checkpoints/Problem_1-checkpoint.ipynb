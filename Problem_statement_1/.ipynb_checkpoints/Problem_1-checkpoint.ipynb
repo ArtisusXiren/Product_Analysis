{
 "cells": [
  {
   "cell_type": "code",
   "execution_count": 1,
   "id": "a3bb53bc-f8ac-42de-9360-bb4d90275115",
   "metadata": {
    "tags": []
   },
   "outputs": [],
   "source": [
    "import sqlite3\n",
    "import pandas as pd\n",
    "import matplotlib.pyplot as plt\n",
    "def generate(Id,home_team_id,away_team_id,Type,timestamp):\n",
    "    conn=sqlite3.connect(\"Database_1.db\")\n",
    "    cursor=conn.cursor()\n",
    "    table_command=\"\"\"\n",
    "    Create Table IF NOT EXISTS matches(Id INTEGER PRIMARY KEY,\n",
    "    home_team_id INTEGER,\n",
    "    away_team_id INTEGER,\n",
    "    Type text,\n",
    "    timestamp DOUBLE);\n",
    "    \"\"\"\n",
    "    cursor.execute(table_command)\n",
    "    try: \n",
    "        insert_command= \"\"\"\n",
    "        Insert INTO  matches(Id,home_team_id,away_team_id,Type,timestamp)\n",
    "        values(?,?,?,?,?)\n",
    "        \"\"\"\n",
    "        with conn:                        \n",
    "            cursor.execute( insert_command,(Id,home_team_id,away_team_id,Type,timestamp))\n",
    "            conn.commit()      \n",
    "    except sqlite3.Error as e:\n",
    "        print(\"Error executing SQL:\", e)\n",
    "    finally:                                   \n",
    "        if cursor:                             \n",
    "            cursor.close()\n",
    "        if conn:\n",
    "            conn.close()"
   ]
  },
  {
   "cell_type": "code",
   "execution_count": 2,
   "id": "e68bbd9a-4bf9-490c-aa0b-a5df7067aa95",
   "metadata": {
    "tags": []
   },
   "outputs": [
    {
     "name": "stdout",
     "output_type": "stream",
     "text": [
      "Success\n"
     ]
    }
   ],
   "source": [
    "Entries = [\n",
    "    {\"Id\":1,\"home_team_id\":17,\"away_team_id\":629,\"Type\":\"F5\",\"timestamp\":1383678600},\n",
    "    {\"Id\":2,\"home_team_id\":64,\"away_team_id\":211,\"Type\":\"League\",\"timestamp\":1383709905},\n",
    "    {\"Id\":3,\"home_team_id\":34,\"away_team_id\":209,\"Type\":\"League\",\"timestamp\":1520420200},\n",
    "    {\"Id\":4,\"home_team_id\":628,\"away_team_id\":229,\"Type\":\"F5\",\"timestamp\":1520820200},\n",
    "    {\"Id\":5,\"home_team_id\":533,\"away_team_id\":142,\"Type\":\"F5\",\"timestamp\":1540820200},\n",
    "    {\"Id\":6,\"home_team_id\":464,\"away_team_id\":66,\"Type\":\"F5\",\"timestamp\":1549082020},\n",
    "    {\"Id\":7,\"home_team_id\":39,\"away_team_id\":203,\"Type\":\"F5\",\"timestamp\":1569082020},\n",
    "    {\"Id\":8,\"home_team_id\":103,\"away_team_id\":58,\"Type\":\"Alliance\",\"timestamp\":1582082020},\n",
    "    {\"Id\":9,\"home_team_id\":293,\"away_team_id\":86,\"Type\":\"League\",\"timestamp\":1585082020}\n",
    "    \n",
    "]\n",
    "def gen_product(): \n",
    "    for entry in Entries:\n",
    "        yield entry[\"Id\"],entry[\"home_team_id\"],entry[\"away_team_id\"],entry[\"Type\"],entry[\"timestamp\"]\n",
    "    \n",
    "for Id,home_team_id,away_team_id,Type,timestamp in gen_product():\n",
    "    generate(Id,home_team_id,away_team_id,Type,timestamp)\n",
    "print(\"Success\")\n",
    "conn =sqlite3.connect(\"Database_1.db\")\n",
    "statement= \"\"\"\n",
    "Select * from matches\n",
    "\"\"\"\n",
    "data=pd.read_sql(statement,conn)\n",
    "conn.close\n",
    "data.to_csv(\"matches.csv\")"
   ]
  },
  {
   "cell_type": "code",
   "execution_count": 3,
   "id": "90763246-948c-4f22-8fc7-51a105898866",
   "metadata": {
    "tags": []
   },
   "outputs": [
    {
     "name": "stdout",
     "output_type": "stream",
     "text": [
      "No matching columns\n"
     ]
    }
   ],
   "source": [
    "def operations():\n",
    "    conn=sqlite3.connect(\"Database_1.db\")\n",
    "    cursor=conn.cursor()\n",
    "    try:\n",
    "        command=(\"\"\"\n",
    "        SELECT home_team_id ,Count(*) AS match_count FROM matches\n",
    "        WHERE Type='F5'\n",
    "        AND timestamp>=1583001000  \n",
    "        AND timestamp <=1583778600\n",
    "        GROUP BY home_team_id\n",
    "        HAVING COUNT(*)>=3\n",
    "        \"\"\");\n",
    "        cursor.execute(command)\n",
    "        results=cursor.fetchall()\n",
    "        if results:\n",
    "            for row in results:\n",
    "                home_team_id=row[1]\n",
    "                matches_played=row[0]\n",
    "                print(f\"home_team_id:{home_team_id}, matches_played:{row}\")\n",
    "        else:\n",
    "            print(\"No matching columns\")\n",
    "    except sqlite3.Error as e:\n",
    "        print(\"Error executing SQL:\", e)\n",
    "    finally:                                   \n",
    "        if cursor:                             \n",
    "            cursor.close()\n",
    "        if conn:\n",
    "            conn.close()\n",
    "operations()"
   ]
  },
  {
   "cell_type": "code",
   "execution_count": null,
   "id": "0574b520-f3ec-41a5-b955-e009380bb064",
   "metadata": {},
   "outputs": [],
   "source": []
  }
 ],
 "metadata": {
  "kernelspec": {
   "display_name": "Python 3 (ipykernel)",
   "language": "python",
   "name": "python3"
  },
  "language_info": {
   "codemirror_mode": {
    "name": "ipython",
    "version": 3
   },
   "file_extension": ".py",
   "mimetype": "text/x-python",
   "name": "python",
   "nbconvert_exporter": "python",
   "pygments_lexer": "ipython3",
   "version": "3.11.5"
  }
 },
 "nbformat": 4,
 "nbformat_minor": 5
}
