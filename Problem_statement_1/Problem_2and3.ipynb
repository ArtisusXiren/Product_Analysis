{
 "cells": [
  {
   "cell_type": "code",
   "execution_count": 1,
   "id": "17fc191c-225e-4152-afe4-450ae6b7aa5b",
   "metadata": {},
   "outputs": [],
   "source": [
    "import sqlite3\n",
    "import pandas as pd\n",
    "import matplotlib.pyplot as plt\n",
    "def generate(Id,user_id,status,amount,gateway,timestamp):\n",
    "    conn=sqlite3.connect(\"Database_1.db\")\n",
    "    cursor=conn.cursor()\n",
    "    table_command=\"\"\"\n",
    "    Create Table IF NOT EXISTS Payments(Id INTEGER PRIMARY KEY,\n",
    "    user_id INTEGER,\n",
    "    status INTEGER,\n",
    "    amount INTEGER,\n",
    "    gateway text,\n",
    "    timestamp DOUBLE);\n",
    "    \"\"\"\n",
    "    cursor.execute(table_command)\n",
    "    try: \n",
    "        insert_command= \"\"\"\n",
    "        Insert INTO  Payments(Id,user_id,status,amount,gateway,timestamp)\n",
    "        values(?,?,?,?,?,?)\n",
    "        \"\"\"\n",
    "        with conn:                        \n",
    "            cursor.execute( insert_command,(Id,user_id,status,amount,gateway,timestamp))\n",
    "            conn.commit()      \n",
    "    except sqlite3.Error as e:\n",
    "        print(\"Error executing SQL:\", e)\n",
    "    finally:                                   \n",
    "        if cursor:                             \n",
    "            cursor.close()\n",
    "        if conn:\n",
    "            conn.close()"
   ]
  },
  {
   "cell_type": "code",
   "execution_count": 2,
   "id": "4bc83c63-ad7c-4732-97cf-3a0b5c8d8c4b",
   "metadata": {
    "tags": []
   },
   "outputs": [
    {
     "name": "stdout",
     "output_type": "stream",
     "text": [
      "Success\n"
     ]
    }
   ],
   "source": [
    "Entries = [\n",
    "    {\"Id\":1,\"user_id\":17,\"status\":2,\"amount\":50,\"gateway\":\"paytm\",\"timestamp\":1383678600},\n",
    "    {\"Id\":2,\"user_id\":64,\"status\":2,\"amount\":100,\"gateway\":\"google\",\"timestamp\":1383709905},\n",
    "    {\"Id\":3,\"user_id\":33,\"status\":2,\"amount\":250,\"gateway\":\"apple\",\"timestamp\":1583071000},\n",
    "    {\"Id\":4,\"user_id\":628,\"status\":0,\"amount\":49,\"gateway\":\"upi\",\"timestamp\":1520820200},\n",
    "    {\"Id\":5,\"user_id\":533,\"status\":1,\"amount\":99,\"gateway\":\"google\",\"timestamp\":1540820200},\n",
    "    {\"Id\":6,\"user_id\":464,\"status\":2,\"amount\":150,\"gateway\":\"apple\",\"timestamp\":1549082020},\n",
    "    {\"Id\":7,\"user_id\":39,\"status\":2,\"amount\":7900,\"gateway\":\"upi\",\"timestamp\":1569082020},\n",
    "    {\"Id\":8,\"user_id\":103,\"status\":2,\"amount\":4900,\"gateway\":\"tapjoy\",\"timestamp\":1582082020},\n",
    "    {\"Id\":9,\"user_id\":293,\"status\":3,\"amount\":1500,\"gateway\":\"upi\",\"timestamp\":1585082020}\n",
    "    \n",
    "]\n",
    "def gen_product(): \n",
    "    for entry in Entries:\n",
    "        yield entry[\"Id\"],entry[\"user_id\"],entry[\"status\"],entry[\"amount\"],entry[\"gateway\"],entry[\"timestamp\"]\n",
    "    \n",
    "for Id,user_id,status,amount,gateway,timestamp in gen_product():\n",
    "    generate(Id,user_id,status,amount,gateway,timestamp)\n",
    "print(\"Success\")\n"
   ]
  },
  {
   "cell_type": "code",
   "execution_count": 3,
   "id": "c75483bf-e26c-4299-af59-f1d60108f576",
   "metadata": {
    "tags": []
   },
   "outputs": [
    {
     "name": "stdout",
     "output_type": "stream",
     "text": [
      "user_id:33\n"
     ]
    }
   ],
   "source": [
    "def operations():\n",
    "    conn=sqlite3.connect(\"Database_1.db\")\n",
    "    cursor=conn.cursor()\n",
    "    try:\n",
    "        command=(\"\"\"\n",
    "        SELECT user_id FROM Payments\n",
    "        WHERE status=2 \n",
    "        AND gateway!= \"tapjoy\"\n",
    "        AND timestamp>=1583001000  \n",
    "        AND timestamp <=1583778600\n",
    "        \"\"\");\n",
    "        cursor.execute(command)\n",
    "        results=cursor.fetchall()\n",
    "        if results:\n",
    "            for row in results:\n",
    "                row=row[0]\n",
    "                print(f\"user_id:{row}\")\n",
    "        else:\n",
    "            print(\"No matching columns\")\n",
    "    except sqlite3.Error as e:\n",
    "        print(\"Error executing SQL:\", e)\n",
    "    finally:                                   \n",
    "        if cursor:                             \n",
    "            cursor.close()\n",
    "        if conn:\n",
    "            conn.close()\n",
    "operations()"
   ]
  },
  {
   "cell_type": "code",
   "execution_count": 4,
   "id": "405e5fee-398b-43aa-8ab7-19f41af33c0d",
   "metadata": {
    "tags": []
   },
   "outputs": [],
   "source": [
    "def generate_2(Id,user_id,createtime,last_active_at):\n",
    "    conn=sqlite3.connect(\"Database_1.db\")\n",
    "    cursor=conn.cursor()\n",
    "    table_command=\"\"\"\n",
    "    Create Table IF NOT EXISTS Users(Id INTEGER PRIMARY KEY,\n",
    "    user_id INTEGER,\n",
    "    createtime DOUBLE,\n",
    "    last_active_at DOUBLE);\n",
    "    \"\"\"\n",
    "    cursor.execute(table_command)\n",
    "    try: \n",
    "        insert_command= \"\"\"\n",
    "        Insert INTO  Users(Id,user_id,createtime,last_active_at)\n",
    "        values(?,?,?,?)\n",
    "        \"\"\"\n",
    "        with conn:                        \n",
    "            cursor.execute( insert_command,(Id,user_id,createtime,last_active_at))\n",
    "            conn.commit()      \n",
    "    except sqlite3.Error as e:\n",
    "        print(\"Error executing SQL:\", e)\n",
    "    finally:                                   \n",
    "        if cursor:                             \n",
    "            cursor.close()\n",
    "        if conn:\n",
    "            conn.close()"
   ]
  },
  {
   "cell_type": "code",
   "execution_count": 5,
   "id": "46f113b7-3a93-4fb9-b142-48b39a2659d6",
   "metadata": {
    "tags": []
   },
   "outputs": [
    {
     "name": "stdout",
     "output_type": "stream",
     "text": [
      "Success\n"
     ]
    }
   ],
   "source": [
    "Entries = [\n",
    "    {\"Id\":1,\"user_id\":33,\"createtime\":1283678600,\"last_active_at\":1383678600},\n",
    "    {\"Id\":2,\"user_id\":222,\"createtime\":1383709905,\"last_active_at\":1483709905},\n",
    "    {\"Id\":3,\"user_id\":354,\"createtime\":1520420200,\"last_active_at\":1620420200},\n",
    "    {\"Id\":4,\"user_id\":97886,\"createtime\":1520820200,\"last_active_at\":1620820200},\n",
    "    {\"Id\":5,\"user_id\":3532,\"createtime\":1540820200,\"last_active_at\":1640820200},\n",
    "    {\"Id\":6,\"user_id\":858,\"createtime\":1549082020,\"last_active_at\":1649082020},\n",
    "    {\"Id\":7,\"user_id\":34322,\"createtime\":1569082020,\"last_active_at\":1669082020},\n",
    "    {\"Id\":8,\"user_id\":7687,\"createtime\":1582082020,\"last_active_at\":1682082020},\n",
    "    \n",
    "]\n",
    "def gen_product(): \n",
    "    for entry in Entries:\n",
    "        yield entry[\"Id\"],entry[\"user_id\"],entry[\"createtime\"],entry[\"last_active_at\"],\n",
    "    \n",
    "for Id,user_id,createtime,last_active_at in gen_product():\n",
    "    generate_2(Id,user_id,createtime,last_active_at)\n",
    "print(\"Success\")\n"
   ]
  },
  {
   "cell_type": "code",
   "execution_count": 6,
   "id": "e88750ae-5c6a-4185-bd67-eae3dd980007",
   "metadata": {
    "tags": []
   },
   "outputs": [
    {
     "name": "stdout",
     "output_type": "stream",
     "text": [
      "No columns matched\n"
     ]
    }
   ],
   "source": [
    "def user():\n",
    "    conn=sqlite3.connect(\"Database_1.db\")\n",
    "    cursor=conn.cursor()\n",
    "    try:\n",
    "        command=\"\"\"\n",
    "        Select Users.user_id From Payments\n",
    "        JOIN Users ON Payments.user_id= Users.user_id\n",
    "        where Payments.timestamp>=1366137000\n",
    "        AND Payments.timestamp<=1397673000 \n",
    "        AND Users.last_active_at>=1483209000\n",
    "        \"\"\"\n",
    "        cursor.execute(command)\n",
    "        results=cursor.fetchall()\n",
    "        if results:\n",
    "            for row in results:\n",
    "                row=row[0]\n",
    "                print(f\"user_id:{row}\")\n",
    "        else:\n",
    "            print(\"No columns matched\")\n",
    "    except sqlite3.Error as e:\n",
    "        print(\"Error executing SQL:\", e)\n",
    "    finally:                                   \n",
    "        if cursor:                             \n",
    "            cursor.close()\n",
    "        if conn:\n",
    "            conn.close()\n",
    "user()"
   ]
  },
  {
   "cell_type": "code",
   "execution_count": null,
   "id": "b1270560-849e-4b87-ba1a-1c18b41c091f",
   "metadata": {},
   "outputs": [],
   "source": []
  }
 ],
 "metadata": {
  "kernelspec": {
   "display_name": "Python 3 (ipykernel)",
   "language": "python",
   "name": "python3"
  },
  "language_info": {
   "codemirror_mode": {
    "name": "ipython",
    "version": 3
   },
   "file_extension": ".py",
   "mimetype": "text/x-python",
   "name": "python",
   "nbconvert_exporter": "python",
   "pygments_lexer": "ipython3",
   "version": "3.11.5"
  }
 },
 "nbformat": 4,
 "nbformat_minor": 5
}
